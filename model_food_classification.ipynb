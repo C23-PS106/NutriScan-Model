{
  "cells": [
    {
      "cell_type": "markdown",
      "metadata": {
        "id": "Pco-zVsMnj_A"
      },
      "source": [
        "# **Import Libraries**"
      ]
    },
    {
      "cell_type": "code",
      "execution_count": null,
      "metadata": {
        "id": "iiDizc5r93ta"
      },
      "outputs": [],
      "source": [
        "# import libraries\n",
        "import os\n",
        "import tensorflow as tf\n",
        "import matplotlib.pyplot as plt\n",
        "import PIL\n",
        "import tensorflow_hub as hub\n",
        "import numpy as np\n",
        "from zipfile import ZipFile\n",
        "from keras.preprocessing.image import ImageDataGenerator\n",
        "from tensorflow.keras.preprocessing.image import img_to_array, load_img\n",
        "from PIL import Image, ImageFile, UnidentifiedImageError\n",
        "from pathlib import Path\n",
        "ImageFile.LOAD_TRUNCATED_IMAGES = True"
      ]
    },
    {
      "cell_type": "markdown",
      "metadata": {
        "id": "OG45MY0dp-Lh"
      },
      "source": [
        "# **Connecting to Gdrive**"
      ]
    },
    {
      "cell_type": "code",
      "execution_count": null,
      "metadata": {
        "colab": {
          "base_uri": "https://localhost:8080/"
        },
        "id": "Jau_sW0G_BFc",
        "outputId": "bdf47852-df17-46e2-a6f7-e7d671fe0ceb"
      },
      "outputs": [
        {
          "output_type": "stream",
          "name": "stdout",
          "text": [
            "Drive already mounted at /content/drive; to attempt to forcibly remount, call drive.mount(\"/content/drive\", force_remount=True).\n"
          ]
        }
      ],
      "source": [
        "from google.colab import drive\n",
        "drive.mount('/content/drive')"
      ]
    },
    {
      "cell_type": "code",
      "execution_count": null,
      "metadata": {
        "id": "t3kc2c6v_e4l"
      },
      "outputs": [],
      "source": [
        "with ZipFile('drive/MyDrive/food_images.zip', 'r') as zipObj:\n",
        "  zipObj.extractall('drive/MyDrive')"
      ]
    },
    {
      "cell_type": "code",
      "execution_count": null,
      "metadata": {
        "id": "lamy0Mpe__7T"
      },
      "outputs": [],
      "source": [
        "#training directory\n",
        "train_dir = 'drive/MyDrive/food_images/train'\n",
        "\n",
        "train_dir_ayam = os.path.join(train_dir, 'ayam_goreng')\n",
        "train_dir_bubur = os.path.join(train_dir, 'bubur_ayam')\n",
        "train_dir_es = os.path.join(train_dir, 'es_krim')\n",
        "train_dir_gado = os.path.join(train_dir, 'gado_gado')\n",
        "train_dir_kentang = os.path.join(train_dir, 'kentang_goreng')\n",
        "train_dir_kue = os.path.join(train_dir, 'kue_coklat')\n",
        "train_dir_nasi = os.path.join(train_dir, 'nasi_goreng')\n",
        "train_dir_omellette = os.path.join(train_dir, 'omellette')\n",
        "train_dir_rendang = os.path.join(train_dir, 'rendang')\n",
        "train_dir_sandwich = os.path.join(train_dir, 'sandwich')\n",
        "\n",
        "#testing directory\n",
        "test_dir = 'drive/MyDrive/food_images/test'\n",
        "\n",
        "test_dir_ayam = os.path.join(test_dir, 'ayam_goreng')\n",
        "test_dir_bubur = os.path.join(test_dir, 'bubur_ayam')\n",
        "test_dir_es = os.path.join(test_dir, 'es_krim')\n",
        "test_dir_gado = os.path.join(test_dir, 'gado_gado')\n",
        "test_dir_kentang = os.path.join(test_dir, 'kentang_goreng')\n",
        "test_dir_kue = os.path.join(test_dir, 'kue_coklat')\n",
        "test_dir_nasi = os.path.join(test_dir, 'nasi_goreng')\n",
        "test_dir_omellette = os.path.join(test_dir, 'omellette')\n",
        "test_dir_rendang = os.path.join(test_dir, 'rendang')\n",
        "test_dir_sandwich = os.path.join(test_dir, 'sandwich')"
      ]
    },
    {
      "cell_type": "markdown",
      "metadata": {
        "id": "Dto5lHW4qLeK"
      },
      "source": [
        "# **Checking total image in directory**"
      ]
    },
    {
      "cell_type": "code",
      "execution_count": null,
      "metadata": {
        "colab": {
          "base_uri": "https://localhost:8080/"
        },
        "id": "1a9TxrqQAJaP",
        "outputId": "adbcdbfc-bb81-48a9-acdf-6d8a2a60c386"
      },
      "outputs": [
        {
          "output_type": "stream",
          "name": "stdout",
          "text": [
            "\n",
            "Total training ayam goreng images: 400\n",
            "Total validation ayam goreng images: 100\n",
            "\n",
            "Total training bubur ayam images: 400\n",
            "Total validation bubur ayam images: 100\n",
            "\n",
            "Total training es krim images: 400\n",
            "Total validation es krim images: 100\n",
            "\n",
            "Total training gado gado images: 400\n",
            "Total validation gado gado images: 100\n",
            "\n",
            "Total training kentang goreng images: 400\n",
            "Total validation kentang goreng images: 100\n",
            "\n",
            "Total training kue coklat images: 400\n",
            "Total validation kue coklat images: 100\n",
            "\n",
            "Total training nasi goreng images: 400\n",
            "Total validation nasi goreng images: 100\n",
            "\n",
            "Total training omellette images: 400\n",
            "Total validation omellette images: 100\n",
            "\n",
            "Total training rendang images: 400\n",
            "Total validation rendang images: 100\n",
            "\n",
            "Total training sandwich images: 400\n",
            "Total validation sandwich images: 100\n"
          ]
        }
      ],
      "source": [
        "#number of image\n",
        "\n",
        "print('\\nTotal training ayam goreng images:', len(os.listdir(train_dir_ayam)))\n",
        "print('Total validation ayam goreng images:', len(os.listdir(test_dir_ayam)))\n",
        "\n",
        "print('\\nTotal training bubur ayam images:', len(os.listdir(train_dir_bubur)))\n",
        "print('Total validation bubur ayam images:', len(os.listdir(test_dir_bubur)))\n",
        "\n",
        "print('\\nTotal training es krim images:', len(os.listdir(train_dir_es)))\n",
        "print('Total validation es krim images:', len(os.listdir(test_dir_es)))\n",
        "\n",
        "print('\\nTotal training gado gado images:', len(os.listdir(train_dir_gado)))\n",
        "print('Total validation gado gado images:', len(os.listdir(test_dir_gado)))\n",
        "\n",
        "print('\\nTotal training kentang goreng images:', len(os.listdir(train_dir_kentang)))\n",
        "print('Total validation kentang goreng images:', len(os.listdir(test_dir_kentang)))\n",
        "\n",
        "print('\\nTotal training kue coklat images:', len(os.listdir(train_dir_kue)))\n",
        "print('Total validation kue coklat images:', len(os.listdir(test_dir_kue)))\n",
        "\n",
        "print('\\nTotal training nasi goreng images:', len(os.listdir(train_dir_nasi)))\n",
        "print('Total validation nasi goreng images:', len(os.listdir(test_dir_nasi)))\n",
        "\n",
        "print('\\nTotal training omellette images:', len(os.listdir(train_dir_omellette)))\n",
        "print('Total validation omellette images:', len(os.listdir(test_dir_omellette)))\n",
        "\n",
        "print('\\nTotal training rendang images:', len(os.listdir(train_dir_rendang)))\n",
        "print('Total validation rendang images:', len(os.listdir(test_dir_rendang)))\n",
        "\n",
        "print('\\nTotal training sandwich images:', len(os.listdir(train_dir_sandwich)))\n",
        "print('Total validation sandwich images:', len(os.listdir(test_dir_sandwich)))"
      ]
    },
    {
      "cell_type": "markdown",
      "metadata": {
        "id": "fDtB7NYBqYfD"
      },
      "source": [
        "# **Image Shape Sampling**"
      ]
    },
    {
      "cell_type": "code",
      "execution_count": null,
      "metadata": {
        "colab": {
          "base_uri": "https://localhost:8080/"
        },
        "id": "bh_b6d3AANEG",
        "outputId": "04566237-59f6-4006-99ee-b4b899bbf585"
      },
      "outputs": [
        {
          "name": "stdout",
          "output_type": "stream",
          "text": [
            "Each image has shape: (159, 318, 3)\n"
          ]
        }
      ],
      "source": [
        "#check image shape\n",
        "sample_image  = load_img(f\"{os.path.join(train_dir_sandwich, os.listdir(train_dir_sandwich)[1])}\")\n",
        "\n",
        "sample_array = img_to_array(sample_image)\n",
        "\n",
        "print(f\"Each image has shape: {sample_array.shape}\")"
      ]
    },
    {
      "cell_type": "markdown",
      "metadata": {
        "id": "w64nFpvPrOQ8"
      },
      "source": [
        "# **Checking Unidentified Image**"
      ]
    },
    {
      "cell_type": "code",
      "execution_count": null,
      "metadata": {
        "id": "GSa4XK9qAQ3I"
      },
      "outputs": [],
      "source": [
        "#check unidentified image\n",
        "\n",
        "path = Path(\"drive/MyDrive/food_images/train\").rglob(\"*.jpg\")\n",
        "for img_p in path:\n",
        "    try:\n",
        "        img = PIL.Image.open(img_p)\n",
        "    except PIL.UnidentifiedImageError:\n",
        "            print(img_p)"
      ]
    },
    {
      "cell_type": "markdown",
      "metadata": {
        "id": "D2JjJ102rY9y"
      },
      "source": [
        "# **Image data generating**"
      ]
    },
    {
      "cell_type": "code",
      "execution_count": null,
      "metadata": {
        "colab": {
          "base_uri": "https://localhost:8080/"
        },
        "id": "o2Ju-XUrAZ9Z",
        "outputId": "fc0336a8-5bc0-49cd-e6c2-09588bcebfe0"
      },
      "outputs": [
        {
          "output_type": "stream",
          "name": "stdout",
          "text": [
            "Found 4000 images belonging to 10 classes.\n",
            "Found 1000 images belonging to 10 classes.\n"
          ]
        }
      ],
      "source": [
        "#image data generator\n",
        "train_dir = 'drive/MyDrive/food_images/train'\n",
        "training_datagen = ImageDataGenerator(\n",
        "      rescale = 1./255,\n",
        "      rotation_range = 40,\n",
        "      width_shift_range = 0.2,\n",
        "      height_shift_range = 0.2,\n",
        "      shear_range = 0.2,\n",
        "      zoom_range = 0.2,\n",
        "      horizontal_flip = True,\n",
        "      fill_mode = 'nearest')\n",
        "\n",
        "test_dir = 'drive/MyDrive/food_images/test'\n",
        "validation_datagen = ImageDataGenerator(\n",
        "      rescale = 1./255,\n",
        "      rotation_range = 40,\n",
        "      width_shift_range = 0.2,\n",
        "      height_shift_range = 0.2,\n",
        "      shear_range = 0.2,\n",
        "      zoom_range = 0.2,\n",
        "      horizontal_flip = True,\n",
        "      fill_mode = 'nearest')\n",
        "\n",
        "train_generator = training_datagen.flow_from_directory(\n",
        "   train_dir,\n",
        "   target_size = (224, 224),\n",
        "   class_mode = 'categorical',\n",
        "   batch_size = 40\n",
        ")\n",
        "\n",
        "validation_generator = validation_datagen.flow_from_directory(\n",
        "   test_dir,\n",
        "   target_size = (224, 224),\n",
        "   class_mode='categorical',\n",
        "   batch_size = 20\n",
        ")"
      ]
    },
    {
      "cell_type": "markdown",
      "metadata": {
        "id": "i5jd5ghqrhxQ"
      },
      "source": [
        "# **Building The CNN Model**"
      ]
    },
    {
      "cell_type": "code",
      "execution_count": null,
      "metadata": {
        "id": "NfvfmTSuAgcy"
      },
      "outputs": [],
      "source": [
        "model = tf.keras.models.Sequential([\n",
        "    tf.keras.layers.Conv2D(32, (3, 3), activation = 'relu', input_shape = (224, 224, 3)),\n",
        "    tf.keras.layers.MaxPooling2D(2, 2),\n",
        "    tf.keras.layers.Conv2D(64, (3, 3), activation = 'relu'),\n",
        "    tf.keras.layers.MaxPooling2D(2, 2),\n",
        "    tf.keras.layers.Conv2D(128, (3, 3), activation = 'relu'),\n",
        "    tf.keras.layers.MaxPooling2D(2, 2),\n",
        "    tf.keras.layers.Conv2D(128, (3, 3), activation = 'relu'),\n",
        "    tf.keras.layers.MaxPooling2D(2, 2),\n",
        "    tf.keras.layers.Flatten(),\n",
        "    tf.keras.layers.Dense(512, activation = 'relu'),\n",
        "    tf.keras.layers.Dense(256, activation = 'relu'),\n",
        "    tf.keras.layers.Dense(10, activation = 'softmax')\n",
        "])"
      ]
    },
    {
      "cell_type": "code",
      "execution_count": null,
      "metadata": {
        "colab": {
          "base_uri": "https://localhost:8080/"
        },
        "id": "WGVLTE2CAiw-",
        "outputId": "6c0570f9-ffc0-4d1e-d227-ceea7afdfeff"
      },
      "outputs": [
        {
          "name": "stdout",
          "output_type": "stream",
          "text": [
            "Model: \"sequential_3\"\n",
            "_________________________________________________________________\n",
            " Layer (type)                Output Shape              Param #   \n",
            "=================================================================\n",
            " conv2d_12 (Conv2D)          (None, 222, 222, 32)      896       \n",
            "                                                                 \n",
            " max_pooling2d_12 (MaxPoolin  (None, 111, 111, 32)     0         \n",
            " g2D)                                                            \n",
            "                                                                 \n",
            " conv2d_13 (Conv2D)          (None, 109, 109, 64)      18496     \n",
            "                                                                 \n",
            " max_pooling2d_13 (MaxPoolin  (None, 54, 54, 64)       0         \n",
            " g2D)                                                            \n",
            "                                                                 \n",
            " conv2d_14 (Conv2D)          (None, 52, 52, 128)       73856     \n",
            "                                                                 \n",
            " max_pooling2d_14 (MaxPoolin  (None, 26, 26, 128)      0         \n",
            " g2D)                                                            \n",
            "                                                                 \n",
            " conv2d_15 (Conv2D)          (None, 24, 24, 128)       147584    \n",
            "                                                                 \n",
            " max_pooling2d_15 (MaxPoolin  (None, 12, 12, 128)      0         \n",
            " g2D)                                                            \n",
            "                                                                 \n",
            " flatten_3 (Flatten)         (None, 18432)             0         \n",
            "                                                                 \n",
            " dense_9 (Dense)             (None, 512)               9437696   \n",
            "                                                                 \n",
            " dense_10 (Dense)            (None, 256)               131328    \n",
            "                                                                 \n",
            " dense_11 (Dense)            (None, 10)                2570      \n",
            "                                                                 \n",
            "=================================================================\n",
            "Total params: 9,812,426\n",
            "Trainable params: 9,812,426\n",
            "Non-trainable params: 0\n",
            "_________________________________________________________________\n"
          ]
        }
      ],
      "source": [
        "model.summary()"
      ]
    },
    {
      "cell_type": "code",
      "execution_count": null,
      "metadata": {
        "id": "_AxyRH5UAlF0"
      },
      "outputs": [],
      "source": [
        "model.compile(optimizer = 'adam',\n",
        "              loss = 'categorical_crossentropy',\n",
        "              metrics = ['accuracy'])"
      ]
    },
    {
      "cell_type": "markdown",
      "metadata": {
        "id": "KYqBmb64rqA1"
      },
      "source": [
        "# **Train The Model**"
      ]
    },
    {
      "cell_type": "code",
      "execution_count": null,
      "metadata": {
        "colab": {
          "base_uri": "https://localhost:8080/"
        },
        "id": "caGx224-AnbU",
        "outputId": "244aa4d4-f61e-46e3-d576-d643e91fcdc8"
      },
      "outputs": [
        {
          "name": "stdout",
          "output_type": "stream",
          "text": [
            "Epoch 1/35\n",
            "100/100 [==============================] - 69s 690ms/step - loss: 1.5358 - accuracy: 0.4215 - val_loss: 1.4026 - val_accuracy: 0.4620\n",
            "Epoch 2/35\n",
            "100/100 [==============================] - 76s 760ms/step - loss: 1.4509 - accuracy: 0.4507 - val_loss: 1.2761 - val_accuracy: 0.5180\n",
            "Epoch 3/35\n",
            "100/100 [==============================] - 68s 678ms/step - loss: 1.3508 - accuracy: 0.4990 - val_loss: 1.2752 - val_accuracy: 0.5470\n",
            "Epoch 4/35\n",
            "100/100 [==============================] - 68s 683ms/step - loss: 1.2988 - accuracy: 0.5242 - val_loss: 1.2722 - val_accuracy: 0.5200\n",
            "Epoch 5/35\n",
            "100/100 [==============================] - 74s 737ms/step - loss: 1.2688 - accuracy: 0.5293 - val_loss: 1.1221 - val_accuracy: 0.5970\n",
            "Epoch 6/35\n",
            "100/100 [==============================] - 68s 680ms/step - loss: 1.2076 - accuracy: 0.5565 - val_loss: 1.0843 - val_accuracy: 0.6030\n",
            "Epoch 7/35\n",
            "100/100 [==============================] - 68s 679ms/step - loss: 1.1597 - accuracy: 0.5785 - val_loss: 1.0794 - val_accuracy: 0.6050\n",
            "Epoch 8/35\n",
            "100/100 [==============================] - 69s 693ms/step - loss: 1.1588 - accuracy: 0.5780 - val_loss: 1.0037 - val_accuracy: 0.6390\n",
            "Epoch 9/35\n",
            "100/100 [==============================] - 68s 678ms/step - loss: 1.0880 - accuracy: 0.6005 - val_loss: 1.0435 - val_accuracy: 0.6260\n",
            "Epoch 10/35\n",
            "100/100 [==============================] - 69s 693ms/step - loss: 1.1241 - accuracy: 0.6010 - val_loss: 1.0875 - val_accuracy: 0.6100\n",
            "Epoch 11/35\n",
            "100/100 [==============================] - 68s 679ms/step - loss: 1.0404 - accuracy: 0.6310 - val_loss: 0.9588 - val_accuracy: 0.6610\n",
            "Epoch 12/35\n",
            "100/100 [==============================] - 75s 752ms/step - loss: 0.9725 - accuracy: 0.6520 - val_loss: 0.9465 - val_accuracy: 0.6450\n",
            "Epoch 13/35\n",
            "100/100 [==============================] - 71s 707ms/step - loss: 0.9634 - accuracy: 0.6618 - val_loss: 0.8947 - val_accuracy: 0.6810\n",
            "Epoch 14/35\n",
            "100/100 [==============================] - 68s 683ms/step - loss: 0.9651 - accuracy: 0.6580 - val_loss: 0.9511 - val_accuracy: 0.6570\n",
            "Epoch 15/35\n",
            "100/100 [==============================] - 69s 694ms/step - loss: 0.9389 - accuracy: 0.6683 - val_loss: 0.8023 - val_accuracy: 0.7140\n",
            "Epoch 16/35\n",
            "100/100 [==============================] - 68s 680ms/step - loss: 0.9161 - accuracy: 0.6662 - val_loss: 0.8966 - val_accuracy: 0.6790\n",
            "Epoch 17/35\n",
            "100/100 [==============================] - 68s 683ms/step - loss: 0.8908 - accuracy: 0.6852 - val_loss: 0.8401 - val_accuracy: 0.6990\n",
            "Epoch 18/35\n",
            "100/100 [==============================] - 69s 693ms/step - loss: 0.8666 - accuracy: 0.6892 - val_loss: 0.7278 - val_accuracy: 0.7390\n",
            "Epoch 19/35\n",
            "100/100 [==============================] - 68s 683ms/step - loss: 0.8000 - accuracy: 0.7107 - val_loss: 0.7314 - val_accuracy: 0.7520\n",
            "Epoch 20/35\n",
            "100/100 [==============================] - 68s 679ms/step - loss: 0.8119 - accuracy: 0.7120 - val_loss: 0.7499 - val_accuracy: 0.7380\n",
            "Epoch 21/35\n",
            "100/100 [==============================] - 69s 694ms/step - loss: 0.7905 - accuracy: 0.7250 - val_loss: 0.7387 - val_accuracy: 0.7470\n",
            "Epoch 22/35\n",
            "100/100 [==============================] - 68s 681ms/step - loss: 0.7386 - accuracy: 0.7395 - val_loss: 0.7923 - val_accuracy: 0.7180\n",
            "Epoch 23/35\n",
            "100/100 [==============================] - 71s 710ms/step - loss: 0.7407 - accuracy: 0.7418 - val_loss: 0.6720 - val_accuracy: 0.7740\n",
            "Epoch 24/35\n",
            "100/100 [==============================] - 69s 687ms/step - loss: 0.7253 - accuracy: 0.7467 - val_loss: 0.6521 - val_accuracy: 0.7620\n",
            "Epoch 25/35\n",
            "100/100 [==============================] - 68s 683ms/step - loss: 0.6992 - accuracy: 0.7563 - val_loss: 0.5949 - val_accuracy: 0.8070\n",
            "Epoch 26/35\n",
            "100/100 [==============================] - 70s 706ms/step - loss: 0.6916 - accuracy: 0.7550 - val_loss: 0.6225 - val_accuracy: 0.7890\n",
            "Epoch 27/35\n",
            "100/100 [==============================] - 77s 767ms/step - loss: 0.6394 - accuracy: 0.7740 - val_loss: 0.5546 - val_accuracy: 0.8010\n",
            "Epoch 28/35\n",
            "100/100 [==============================] - 68s 684ms/step - loss: 0.5882 - accuracy: 0.7958 - val_loss: 0.5688 - val_accuracy: 0.8050\n",
            "Epoch 29/35\n",
            "100/100 [==============================] - 70s 703ms/step - loss: 0.6052 - accuracy: 0.7918 - val_loss: 0.5172 - val_accuracy: 0.8290\n",
            "Epoch 30/35\n",
            "100/100 [==============================] - 68s 679ms/step - loss: 0.6294 - accuracy: 0.7790 - val_loss: 0.4936 - val_accuracy: 0.8190\n",
            "Epoch 31/35\n",
            "100/100 [==============================] - 68s 683ms/step - loss: 0.6207 - accuracy: 0.7763 - val_loss: 0.5537 - val_accuracy: 0.8090\n",
            "Epoch 32/35\n",
            "100/100 [==============================] - 70s 699ms/step - loss: 0.5822 - accuracy: 0.7935 - val_loss: 0.5593 - val_accuracy: 0.8240\n",
            "Epoch 33/35\n",
            "100/100 [==============================] - 68s 684ms/step - loss: 0.5514 - accuracy: 0.8112 - val_loss: 0.6413 - val_accuracy: 0.7900\n",
            "Epoch 34/35\n",
            "100/100 [==============================] - 69s 693ms/step - loss: 0.5694 - accuracy: 0.7933 - val_loss: 0.5307 - val_accuracy: 0.8040\n",
            "Epoch 35/35\n",
            "100/100 [==============================] - 68s 684ms/step - loss: 0.5636 - accuracy: 0.8008 - val_loss: 0.5540 - val_accuracy: 0.8040\n"
          ]
        }
      ],
      "source": [
        "history = model.fit(train_generator,\n",
        "                    epochs = 35,\n",
        "                    steps_per_epoch = 100,\n",
        "                    validation_data = validation_generator,\n",
        "                    verbose = 1,\n",
        "                    validation_steps = 50)"
      ]
    },
    {
      "cell_type": "code",
      "execution_count": null,
      "metadata": {
        "colab": {
          "base_uri": "https://localhost:8080/",
          "height": 887
        },
        "id": "9NwDVCW4ArKG",
        "outputId": "079bf3e0-a533-47f7-8997-1c8d5e26b324"
      },
      "outputs": [
        {
          "data": {
            "image/png": "[encoded data removed]",
            "text/plain": [
              "<Figure size 640x480 with 1 Axes>"
            ]
          },
          "metadata": {},
          "output_type": "display_data"
        },
        {
          "data": {
            "image/png": "[encoded data removed]",
            "text/plain": [
              "<Figure size 640x480 with 1 Axes>"
            ]
          },
          "metadata": {},
          "output_type": "display_data"
        }
      ],
      "source": [
        "acc = history.history['accuracy']\n",
        "val_acc = history.history['val_accuracy']\n",
        "loss = history.history['loss']\n",
        "val_loss = history.history['val_loss']\n",
        "\n",
        "epochs = range(len(acc))\n",
        "\n",
        "plt.plot(epochs, acc, 'r', label = 'Training Accuracy')\n",
        "plt.plot(epochs, val_acc, 'b', label = 'Validation Accuracy')\n",
        "plt.title('Training and Validation Accuracy')\n",
        "plt.legend()\n",
        "plt.figure()\n",
        "\n",
        "plt.plot(epochs, loss, 'r', label = 'Training Loss')\n",
        "plt.plot(epochs, val_loss, 'b', label = 'Validation Loss')\n",
        "plt.title('Training and Validation Loss')\n",
        "plt.legend()\n",
        "\n",
        "plt.show()"
      ]
    },
    {
      "cell_type": "markdown",
      "metadata": {
        "id": "WsJqid1WrwGQ"
      },
      "source": [
        "# **Predicting Image Using The Model**"
      ]
    },
    {
      "cell_type": "code",
      "execution_count": null,
      "metadata": {
        "colab": {
          "base_uri": "https://localhost:8080/",
          "height": 162
        },
        "id": "Bb8CpCeIAt31",
        "outputId": "7369bcd0-f1fb-44bd-dfd1-1dbd85e24b0f"
      },
      "outputs": [
        {
          "data": {
            "text/html": [
              "\n",
              "     <input type=\"file\" id=\"files-1af01b11-fcfe-4d39-9f9f-dc5aec564048\" name=\"files[]\" multiple disabled\n",
              "        style=\"border:none\" />\n",
              "     <output id=\"result-1af01b11-fcfe-4d39-9f9f-dc5aec564048\">\n",
              "      Upload widget is only available when the cell has been executed in the\n",
              "      current browser session. Please rerun this cell to enable.\n",
              "      </output>\n",
              "      <script>// Copyright 2017 Google LLC\n",
              "//\n",
              "// Licensed under the Apache License, Version 2.0 (the \"License\");\n",
              "// you may not use this file except in compliance with the License.\n",
              "// You may obtain a copy of the License at\n",
              "//\n",
              "//      http://www.apache.org/licenses/LICENSE-2.0\n",
              "//\n",
              "// Unless required by applicable law or agreed to in writing, software\n",
              "// distributed under the License is distributed on an \"AS IS\" BASIS,\n",
              "// WITHOUT WARRANTIES OR CONDITIONS OF ANY KIND, either express or implied.\n",
              "// See the License for the specific language governing permissions and\n",
              "// limitations under the License.\n",
              "\n",
              "/**\n",
              " * @fileoverview Helpers for google.colab Python module.\n",
              " */\n",
              "(function(scope) {\n",
              "function span(text, styleAttributes = {}) {\n",
              "  const element = document.createElement('span');\n",
              "  element.textContent = text;\n",
              "  for (const key of Object.keys(styleAttributes)) {\n",
              "    element.style[key] = styleAttributes[key];\n",
              "  }\n",
              "  return element;\n",
              "}\n",
              "\n",
              "// Max number of bytes which will be uploaded at a time.\n",
              "const MAX_PAYLOAD_SIZE = 100 * 1024;\n",
              "\n",
              "function _uploadFiles(inputId, outputId) {\n",
              "  const steps = uploadFilesStep(inputId, outputId);\n",
              "  const outputElement = document.getElementById(outputId);\n",
              "  // Cache steps on the outputElement to make it available for the next call\n",
              "  // to uploadFilesContinue from Python.\n",
              "  outputElement.steps = steps;\n",
              "\n",
              "  return _uploadFilesContinue(outputId);\n",
              "}\n",
              "\n",
              "// This is roughly an async generator (not supported in the browser yet),\n",
              "// where there are multiple asynchronous steps and the Python side is going\n",
              "// to poll for completion of each step.\n",
              "// This uses a Promise to block the python side on completion of each step,\n",
              "// then passes the result of the previous step as the input to the next step.\n",
              "function _uploadFilesContinue(outputId) {\n",
              "  const outputElement = document.getElementById(outputId);\n",
              "  const steps = outputElement.steps;\n",
              "\n",
              "  const next = steps.next(outputElement.lastPromiseValue);\n",
              "  return Promise.resolve(next.value.promise).then((value) => {\n",
              "    // Cache the last promise value to make it available to the next\n",
              "    // step of the generator.\n",
              "    outputElement.lastPromiseValue = value;\n",
              "    return next.value.response;\n",
              "  });\n",
              "}\n",
              "\n",
              "/**\n",
              " * Generator function which is called between each async step of the upload\n",
              " * process.\n",
              " * @param {string} inputId Element ID of the input file picker element.\n",
              " * @param {string} outputId Element ID of the output display.\n",
              " * @return {!Iterable<!Object>} Iterable of next steps.\n",
              " */\n",
              "function* uploadFilesStep(inputId, outputId) {\n",
              "  const inputElement = document.getElementById(inputId);\n",
              "  inputElement.disabled = false;\n",
              "\n",
              "  const outputElement = document.getElementById(outputId);\n",
              "  outputElement.innerHTML = '';\n",
              "\n",
              "  const pickedPromise = new Promise((resolve) => {\n",
              "    inputElement.addEventListener('change', (e) => {\n",
              "      resolve(e.target.files);\n",
              "    });\n",
              "  });\n",
              "\n",
              "  const cancel = document.createElement('button');\n",
              "  inputElement.parentElement.appendChild(cancel);\n",
              "  cancel.textContent = 'Cancel upload';\n",
              "  const cancelPromise = new Promise((resolve) => {\n",
              "    cancel.onclick = () => {\n",
              "      resolve(null);\n",
              "    };\n",
              "  });\n",
              "\n",
              "  // Wait for the user to pick the files.\n",
              "  const files = yield {\n",
              "    promise: Promise.race([pickedPromise, cancelPromise]),\n",
              "    response: {\n",
              "      action: 'starting',\n",
              "    }\n",
              "  };\n",
              "\n",
              "  cancel.remove();\n",
              "\n",
              "  // Disable the input element since further picks are not allowed.\n",
              "  inputElement.disabled = true;\n",
              "\n",
              "  if (!files) {\n",
              "    return {\n",
              "      response: {\n",
              "        action: 'complete',\n",
              "      }\n",
              "    };\n",
              "  }\n",
              "\n",
              "  for (const file of files) {\n",
              "    const li = document.createElement('li');\n",
              "    li.append(span(file.name, {fontWeight: 'bold'}));\n",
              "    li.append(span(\n",
              "        `(${file.type || 'n/a'}) - ${file.size} bytes, ` +\n",
              "        `last modified: ${\n",
              "            file.lastModifiedDate ? file.lastModifiedDate.toLocaleDateString() :\n",
              "                                    'n/a'} - `));\n",
              "    const percent = span('0% done');\n",
              "    li.appendChild(percent);\n",
              "\n",
              "    outputElement.appendChild(li);\n",
              "\n",
              "    const fileDataPromise = new Promise((resolve) => {\n",
              "      const reader = new FileReader();\n",
              "      reader.onload = (e) => {\n",
              "        resolve(e.target.result);\n",
              "      };\n",
              "      reader.readAsArrayBuffer(file);\n",
              "    });\n",
              "    // Wait for the data to be ready.\n",
              "    let fileData = yield {\n",
              "      promise: fileDataPromise,\n",
              "      response: {\n",
              "        action: 'continue',\n",
              "      }\n",
              "    };\n",
              "\n",
              "    // Use a chunked sending to avoid message size limits. See b/62115660.\n",
              "    let position = 0;\n",
              "    do {\n",
              "      const length = Math.min(fileData.byteLength - position, MAX_PAYLOAD_SIZE);\n",
              "      const chunk = new Uint8Array(fileData, position, length);\n",
              "      position += length;\n",
              "\n",
              "      const base64 = btoa(String.fromCharCode.apply(null, chunk));\n",
              "      yield {\n",
              "        response: {\n",
              "          action: 'append',\n",
              "          file: file.name,\n",
              "          data: base64,\n",
              "        },\n",
              "      };\n",
              "\n",
              "      let percentDone = fileData.byteLength === 0 ?\n",
              "          100 :\n",
              "          Math.round((position / fileData.byteLength) * 100);\n",
              "      percent.textContent = `${percentDone}% done`;\n",
              "\n",
              "    } while (position < fileData.byteLength);\n",
              "  }\n",
              "\n",
              "  // All done.\n",
              "  yield {\n",
              "    response: {\n",
              "      action: 'complete',\n",
              "    }\n",
              "  };\n",
              "}\n",
              "\n",
              "scope.google = scope.google || {};\n",
              "scope.google.colab = scope.google.colab || {};\n",
              "scope.google.colab._files = {\n",
              "  _uploadFiles,\n",
              "  _uploadFilesContinue,\n",
              "};\n",
              "})(self);\n",
              "</script> "
            ],
            "text/plain": [
              "<IPython.core.display.HTML object>"
            ]
          },
          "metadata": {},
          "output_type": "display_data"
        },
        {
          "name": "stdout",
          "output_type": "stream",
          "text": [
            "Saving sausage-fried-rice-with-tomatoes-carrots-shiitake-mushrooms-plate.jpg to sausage-fried-rice-with-tomatoes-carrots-shiitake-mushrooms-plate.jpg\n",
            "1/1 [==============================] - 0s 21ms/step\n",
            "[[4.3442016e-03 1.7753091e-03 4.1277408e-06 2.6045777e-04 5.3004455e-03\n",
            "  2.9372953e-09 7.9619515e-01 1.9080313e-01 6.3846210e-06 1.3107511e-03]]\n",
            "The predicted class is nasi_goreng\n"
          ]
        }
      ],
      "source": [
        "import numpy as np\n",
        "from google.colab import files\n",
        "from tensorflow.keras.utils import load_img, img_to_array\n",
        "\n",
        "uploaded = files.upload()\n",
        "\n",
        "for fn in uploaded.keys():\n",
        "\n",
        "  # predicting images\n",
        "  path = '/content/' + fn\n",
        "  img = load_img(path, target_size=(224, 224))\n",
        "  x = img_to_array(img)\n",
        "  x /= 255\n",
        "  x = np.expand_dims(x, axis=0)\n",
        "\n",
        "  images = np.vstack([x])\n",
        "  classes = model.predict(images, batch_size=6)\n",
        "  print(classes)\n",
        "  output_class = np.argmax(classes)\n",
        "  classname = [\"ayam_goreng\", \"bubur_ayam\", \"es_krim\", \"gado_gado\", \"kentang_goreng\", \"kue_coklat\", \"nasi_goreng\", \"omellette\", \"rendang\", \"sandwich\"]\n",
        "  print(\"The predicted class is\", classname[output_class])"
      ]
    },
    {
      "cell_type": "code",
      "execution_count": null,
      "metadata": {
        "id": "U7CA6KFsiIdQ"
      },
      "outputs": [],
      "source": [
        "model.save('CapstoneCNNModel80val.h5', save_format='h5')"
      ]
    },
    {
      "cell_type": "markdown",
      "metadata": {
        "id": "-nQJSstRr8TT"
      },
      "source": [
        "# **Transfer Learning Using MobileNetV2**"
      ]
    },
    {
      "cell_type": "code",
      "execution_count": null,
      "metadata": {
        "id": "FRUlClmXAyQ_"
      },
      "outputs": [],
      "source": [
        "#Transfer Learning\n",
        "mobilenet_v2_100 = 'https://tfhub.dev/google/imagenet/mobilenet_v2_100_224/classification/5'"
      ]
    },
    {
      "cell_type": "markdown",
      "metadata": {
        "id": "UD61wUD4sMg2"
      },
      "source": [
        "# **Image data generating**"
      ]
    },
    {
      "cell_type": "code",
      "execution_count": null,
      "metadata": {
        "colab": {
          "base_uri": "https://localhost:8080/"
        },
        "id": "nI3OX5GUA0-B",
        "outputId": "8ec79e16-2ab1-498c-c5fd-8a681ea75207"
      },
      "outputs": [
        {
          "output_type": "stream",
          "name": "stdout",
          "text": [
            "Found 4000 images belonging to 10 classes.\n",
            "Found 1000 images belonging to 10 classes.\n"
          ]
        }
      ],
      "source": [
        "TRAINING_DIR = 'drive/MyDrive/food_images/train'\n",
        "training_datagen = ImageDataGenerator(\n",
        "    rescale = 1./255,\n",
        "    rotation_range = 40,\n",
        "    width_shift_range = 0.2,\n",
        "    height_shift_range = 0.2,\n",
        "    shear_range = 0.2,\n",
        "    zoom_range = 0.2,\n",
        "    horizontal_flip = True,\n",
        "    fill_mode = 'nearest')\n",
        "\n",
        "VALIDATION_DIR = 'drive/MyDrive/food_images/test'\n",
        "validation_datagen = ImageDataGenerator(\n",
        "    rescale = 1./255,\n",
        "    rotation_range = 40,\n",
        "    width_shift_range = 0.2,\n",
        "    height_shift_range = 0.2,\n",
        "    shear_range = 0.2,\n",
        "    zoom_range = 0.2,\n",
        "    horizontal_flip = True,\n",
        "    fill_mode = 'nearest')\n",
        "\n",
        "train_generator = training_datagen.flow_from_directory(\n",
        "  TRAINING_DIR,\n",
        "  target_size = (224, 224),\n",
        "  class_mode = 'categorical',\n",
        "  batch_size = 400,\n",
        ")\n",
        "\n",
        "test_generator = training_datagen.flow_from_directory(\n",
        "  VALIDATION_DIR,\n",
        "  target_size = (224, 224),\n",
        "  class_mode = 'categorical',\n",
        "  batch_size = 100,\n",
        ")"
      ]
    },
    {
      "cell_type": "code",
      "execution_count": null,
      "metadata": {
        "id": "zpyx6Fq3A5za"
      },
      "outputs": [],
      "source": [
        "base_model = tf.keras.applications.MobileNetV2(input_shape = (224, 224, 3),\n",
        "                                               include_top = False,\n",
        "                                               weights = 'imagenet')"
      ]
    },
    {
      "cell_type": "markdown",
      "metadata": {
        "id": "mcXAiezasTEQ"
      },
      "source": [
        "# **Set The Trainable to False**"
      ]
    },
    {
      "cell_type": "code",
      "execution_count": null,
      "metadata": {
        "id": "-dctxsvDA7ss"
      },
      "outputs": [],
      "source": [
        "base_model.trainable = False"
      ]
    },
    {
      "cell_type": "markdown",
      "metadata": {
        "id": "hWL5VsgnsZ59"
      },
      "source": [
        "# **Make The Model**"
      ]
    },
    {
      "cell_type": "code",
      "execution_count": null,
      "metadata": {
        "id": "tiSE4efIA8_g"
      },
      "outputs": [],
      "source": [
        "model2 = tf.keras.models.Sequential([\n",
        "    base_model,\n",
        "    tf.keras.layers.GlobalAveragePooling2D(),\n",
        "    tf.keras.layers.Dense(512, activation = 'relu'),\n",
        "    tf.keras.layers.Dropout(0.5),\n",
        "    tf.keras.layers.Dense(10, activation = 'softmax')\n",
        "])"
      ]
    },
    {
      "cell_type": "code",
      "execution_count": null,
      "metadata": {
        "colab": {
          "base_uri": "https://localhost:8080/"
        },
        "id": "ZMp2x2UDBAZm",
        "outputId": "95450a7e-5132-425f-d8ac-2b79222d2fa1"
      },
      "outputs": [
        {
          "output_type": "stream",
          "name": "stdout",
          "text": [
            "Model: \"sequential_1\"\n",
            "_________________________________________________________________\n",
            " Layer (type)                Output Shape              Param #   \n",
            "=================================================================\n",
            " mobilenetv2_1.00_224 (Funct  (None, 7, 7, 1280)       2257984   \n",
            " ional)                                                          \n",
            "                                                                 \n",
            " global_average_pooling2d_1   (None, 1280)             0         \n",
            " (GlobalAveragePooling2D)                                        \n",
            "                                                                 \n",
            " dense_2 (Dense)             (None, 512)               655872    \n",
            "                                                                 \n",
            " dropout_1 (Dropout)         (None, 512)               0         \n",
            "                                                                 \n",
            " dense_3 (Dense)             (None, 10)                5130      \n",
            "                                                                 \n",
            "=================================================================\n",
            "Total params: 2,918,986\n",
            "Trainable params: 661,002\n",
            "Non-trainable params: 2,257,984\n",
            "_________________________________________________________________\n"
          ]
        }
      ],
      "source": [
        "model2.summary()"
      ]
    },
    {
      "cell_type": "code",
      "execution_count": null,
      "metadata": {
        "id": "oor35-niBA94"
      },
      "outputs": [],
      "source": [
        "model2.compile(loss = 'categorical_crossentropy',\n",
        "              optimizer = 'adam',\n",
        "              metrics = ['accuracy'])"
      ]
    },
    {
      "cell_type": "markdown",
      "metadata": {
        "id": "LE4OujTOsx5n"
      },
      "source": [
        "# **Train The Model**"
      ]
    },
    {
      "cell_type": "code",
      "execution_count": null,
      "metadata": {
        "colab": {
          "base_uri": "https://localhost:8080/"
        },
        "id": "pB7p08OvBC3c",
        "outputId": "2b08977f-8292-4e80-8610-354b030df21a"
      },
      "outputs": [
        {
          "output_type": "stream",
          "name": "stdout",
          "text": [
            "Epoch 1/10\n",
            "10/10 [==============================] - 640s 68s/step - loss: 1.8552 - accuracy: 0.4155 - val_loss: 0.8342 - val_accuracy: 0.7560\n",
            "Epoch 2/10\n",
            "10/10 [==============================] - 76s 8s/step - loss: 0.8260 - accuracy: 0.7200 - val_loss: 0.5526 - val_accuracy: 0.8220\n",
            "Epoch 3/10\n",
            "10/10 [==============================] - 78s 8s/step - loss: 0.6534 - accuracy: 0.7790 - val_loss: 0.4809 - val_accuracy: 0.8330\n",
            "Epoch 4/10\n",
            "10/10 [==============================] - 76s 8s/step - loss: 0.5532 - accuracy: 0.8067 - val_loss: 0.4190 - val_accuracy: 0.8630\n",
            "Epoch 5/10\n",
            "10/10 [==============================] - 76s 8s/step - loss: 0.5178 - accuracy: 0.8250 - val_loss: 0.3865 - val_accuracy: 0.8700\n",
            "Epoch 6/10\n",
            "10/10 [==============================] - 83s 9s/step - loss: 0.4765 - accuracy: 0.8370 - val_loss: 0.3992 - val_accuracy: 0.8690\n",
            "Epoch 7/10\n",
            "10/10 [==============================] - 79s 8s/step - loss: 0.4415 - accuracy: 0.8457 - val_loss: 0.3311 - val_accuracy: 0.8910\n",
            "Epoch 8/10\n",
            "10/10 [==============================] - 77s 8s/step - loss: 0.4276 - accuracy: 0.8537 - val_loss: 0.3207 - val_accuracy: 0.9000\n",
            "Epoch 9/10\n",
            "10/10 [==============================] - 79s 8s/step - loss: 0.3975 - accuracy: 0.8605 - val_loss: 0.3228 - val_accuracy: 0.8910\n",
            "Epoch 10/10\n",
            "10/10 [==============================] - 75s 8s/step - loss: 0.3958 - accuracy: 0.8658 - val_loss: 0.3185 - val_accuracy: 0.8840\n"
          ]
        }
      ],
      "source": [
        "history = model2.fit(train_generator,\n",
        "                    validation_data = test_generator,\n",
        "                    epochs = 10,\n",
        "                    verbose = 1,\n",
        "                    steps_per_epoch = 10,\n",
        "                    validation_steps = 10)"
      ]
    },
    {
      "cell_type": "code",
      "execution_count": null,
      "metadata": {
        "colab": {
          "base_uri": "https://localhost:8080/",
          "height": 887
        },
        "id": "qkml48EZBFAx",
        "outputId": "2a0c8a6e-1b68-48f7-dfa1-3134fb9fc4ef"
      },
      "outputs": [
        {
          "output_type": "display_data",
          "data": {
            "text/plain": [
              "<Figure size 640x480 with 1 Axes>"
            ],
            "image/png": "[encoded data removed]"
          },
          "metadata": {}
        },
        {
          "output_type": "display_data",
          "data": {
            "text/plain": [
              "<Figure size 640x480 with 1 Axes>"
            ],
            "image/png": "[encoded data removed]"
          },
          "metadata": {}
        }
      ],
      "source": [
        "#evaluate model\n",
        "acc = history.history['accuracy']\n",
        "val_acc = history.history['val_accuracy']\n",
        "loss = history.history['loss']\n",
        "val_loss = history.history['val_loss']\n",
        "\n",
        "epochs = range(len(acc))\n",
        "\n",
        "plt.plot(epochs, acc, 'r', label = 'Training Accuracy')\n",
        "plt.plot(epochs, val_acc, 'b', label = 'Validation Accuracy')\n",
        "plt.title('Training and Validation Accuracy')\n",
        "plt.legend()\n",
        "plt.figure()\n",
        "\n",
        "plt.plot(epochs, loss, 'r', label = 'Training Loss')\n",
        "plt.plot(epochs, val_loss, 'b', label = 'Validation Loss')\n",
        "plt.title('Training and Validation Loss')\n",
        "plt.legend()\n",
        "\n",
        "plt.show()"
      ]
    },
    {
      "cell_type": "code",
      "execution_count": null,
      "metadata": {
        "id": "kkZVsLnhnA__"
      },
      "outputs": [],
      "source": [
        "model2.save('CapstoneTransferLearningModel90val.h5', save_format='h5')"
      ]
    },
    {
      "cell_type": "markdown",
      "metadata": {
        "id": "2I7r4T2ZtEXw"
      },
      "source": [
        "# **Predicting Image Using The Model**"
      ]
    },
    {
      "cell_type": "code",
      "execution_count": null,
      "metadata": {
        "colab": {
          "base_uri": "https://localhost:8080/",
          "height": 142
        },
        "id": "ORq0n4xYUDCR",
        "outputId": "0a38c64a-e3d1-49b2-bc25-300c2d830c6e"
      },
      "outputs": [
        {
          "output_type": "display_data",
          "data": {
            "text/plain": [
              "<IPython.core.display.HTML object>"
            ],
            "text/html": [
              "\n",
              "     <input type=\"file\" id=\"files-247c05bf-f400-4f2d-8206-eb081a38e1d4\" name=\"files[]\" multiple disabled\n",
              "        style=\"border:none\" />\n",
              "     <output id=\"result-247c05bf-f400-4f2d-8206-eb081a38e1d4\">\n",
              "      Upload widget is only available when the cell has been executed in the\n",
              "      current browser session. Please rerun this cell to enable.\n",
              "      </output>\n",
              "      <script>// Copyright 2017 Google LLC\n",
              "//\n",
              "// Licensed under the Apache License, Version 2.0 (the \"License\");\n",
              "// you may not use this file except in compliance with the License.\n",
              "// You may obtain a copy of the License at\n",
              "//\n",
              "//      http://www.apache.org/licenses/LICENSE-2.0\n",
              "//\n",
              "// Unless required by applicable law or agreed to in writing, software\n",
              "// distributed under the License is distributed on an \"AS IS\" BASIS,\n",
              "// WITHOUT WARRANTIES OR CONDITIONS OF ANY KIND, either express or implied.\n",
              "// See the License for the specific language governing permissions and\n",
              "// limitations under the License.\n",
              "\n",
              "/**\n",
              " * @fileoverview Helpers for google.colab Python module.\n",
              " */\n",
              "(function(scope) {\n",
              "function span(text, styleAttributes = {}) {\n",
              "  const element = document.createElement('span');\n",
              "  element.textContent = text;\n",
              "  for (const key of Object.keys(styleAttributes)) {\n",
              "    element.style[key] = styleAttributes[key];\n",
              "  }\n",
              "  return element;\n",
              "}\n",
              "\n",
              "// Max number of bytes which will be uploaded at a time.\n",
              "const MAX_PAYLOAD_SIZE = 100 * 1024;\n",
              "\n",
              "function _uploadFiles(inputId, outputId) {\n",
              "  const steps = uploadFilesStep(inputId, outputId);\n",
              "  const outputElement = document.getElementById(outputId);\n",
              "  // Cache steps on the outputElement to make it available for the next call\n",
              "  // to uploadFilesContinue from Python.\n",
              "  outputElement.steps = steps;\n",
              "\n",
              "  return _uploadFilesContinue(outputId);\n",
              "}\n",
              "\n",
              "// This is roughly an async generator (not supported in the browser yet),\n",
              "// where there are multiple asynchronous steps and the Python side is going\n",
              "// to poll for completion of each step.\n",
              "// This uses a Promise to block the python side on completion of each step,\n",
              "// then passes the result of the previous step as the input to the next step.\n",
              "function _uploadFilesContinue(outputId) {\n",
              "  const outputElement = document.getElementById(outputId);\n",
              "  const steps = outputElement.steps;\n",
              "\n",
              "  const next = steps.next(outputElement.lastPromiseValue);\n",
              "  return Promise.resolve(next.value.promise).then((value) => {\n",
              "    // Cache the last promise value to make it available to the next\n",
              "    // step of the generator.\n",
              "    outputElement.lastPromiseValue = value;\n",
              "    return next.value.response;\n",
              "  });\n",
              "}\n",
              "\n",
              "/**\n",
              " * Generator function which is called between each async step of the upload\n",
              " * process.\n",
              " * @param {string} inputId Element ID of the input file picker element.\n",
              " * @param {string} outputId Element ID of the output display.\n",
              " * @return {!Iterable<!Object>} Iterable of next steps.\n",
              " */\n",
              "function* uploadFilesStep(inputId, outputId) {\n",
              "  const inputElement = document.getElementById(inputId);\n",
              "  inputElement.disabled = false;\n",
              "\n",
              "  const outputElement = document.getElementById(outputId);\n",
              "  outputElement.innerHTML = '';\n",
              "\n",
              "  const pickedPromise = new Promise((resolve) => {\n",
              "    inputElement.addEventListener('change', (e) => {\n",
              "      resolve(e.target.files);\n",
              "    });\n",
              "  });\n",
              "\n",
              "  const cancel = document.createElement('button');\n",
              "  inputElement.parentElement.appendChild(cancel);\n",
              "  cancel.textContent = 'Cancel upload';\n",
              "  const cancelPromise = new Promise((resolve) => {\n",
              "    cancel.onclick = () => {\n",
              "      resolve(null);\n",
              "    };\n",
              "  });\n",
              "\n",
              "  // Wait for the user to pick the files.\n",
              "  const files = yield {\n",
              "    promise: Promise.race([pickedPromise, cancelPromise]),\n",
              "    response: {\n",
              "      action: 'starting',\n",
              "    }\n",
              "  };\n",
              "\n",
              "  cancel.remove();\n",
              "\n",
              "  // Disable the input element since further picks are not allowed.\n",
              "  inputElement.disabled = true;\n",
              "\n",
              "  if (!files) {\n",
              "    return {\n",
              "      response: {\n",
              "        action: 'complete',\n",
              "      }\n",
              "    };\n",
              "  }\n",
              "\n",
              "  for (const file of files) {\n",
              "    const li = document.createElement('li');\n",
              "    li.append(span(file.name, {fontWeight: 'bold'}));\n",
              "    li.append(span(\n",
              "        `(${file.type || 'n/a'}) - ${file.size} bytes, ` +\n",
              "        `last modified: ${\n",
              "            file.lastModifiedDate ? file.lastModifiedDate.toLocaleDateString() :\n",
              "                                    'n/a'} - `));\n",
              "    const percent = span('0% done');\n",
              "    li.appendChild(percent);\n",
              "\n",
              "    outputElement.appendChild(li);\n",
              "\n",
              "    const fileDataPromise = new Promise((resolve) => {\n",
              "      const reader = new FileReader();\n",
              "      reader.onload = (e) => {\n",
              "        resolve(e.target.result);\n",
              "      };\n",
              "      reader.readAsArrayBuffer(file);\n",
              "    });\n",
              "    // Wait for the data to be ready.\n",
              "    let fileData = yield {\n",
              "      promise: fileDataPromise,\n",
              "      response: {\n",
              "        action: 'continue',\n",
              "      }\n",
              "    };\n",
              "\n",
              "    // Use a chunked sending to avoid message size limits. See b/62115660.\n",
              "    let position = 0;\n",
              "    do {\n",
              "      const length = Math.min(fileData.byteLength - position, MAX_PAYLOAD_SIZE);\n",
              "      const chunk = new Uint8Array(fileData, position, length);\n",
              "      position += length;\n",
              "\n",
              "      const base64 = btoa(String.fromCharCode.apply(null, chunk));\n",
              "      yield {\n",
              "        response: {\n",
              "          action: 'append',\n",
              "          file: file.name,\n",
              "          data: base64,\n",
              "        },\n",
              "      };\n",
              "\n",
              "      let percentDone = fileData.byteLength === 0 ?\n",
              "          100 :\n",
              "          Math.round((position / fileData.byteLength) * 100);\n",
              "      percent.textContent = `${percentDone}% done`;\n",
              "\n",
              "    } while (position < fileData.byteLength);\n",
              "  }\n",
              "\n",
              "  // All done.\n",
              "  yield {\n",
              "    response: {\n",
              "      action: 'complete',\n",
              "    }\n",
              "  };\n",
              "}\n",
              "\n",
              "scope.google = scope.google || {};\n",
              "scope.google.colab = scope.google.colab || {};\n",
              "scope.google.colab._files = {\n",
              "  _uploadFiles,\n",
              "  _uploadFilesContinue,\n",
              "};\n",
              "})(self);\n",
              "</script> "
            ]
          },
          "metadata": {}
        },
        {
          "output_type": "stream",
          "name": "stdout",
          "text": [
            "Saving soto.jpeg to soto (1).jpeg\n",
            "1/1 [==============================] - 0s 25ms/step\n",
            "[[2.4436887e-02 4.1288075e-01 2.2437759e-03 8.3091833e-02 6.0489215e-02\n",
            "  3.9544175e-04 3.3037111e-02 3.6187595e-01 4.2217337e-03 1.7327340e-02]]\n",
            "The predicted class is bubur_ayam\n"
          ]
        }
      ],
      "source": [
        "import numpy as np\n",
        "from google.colab import files\n",
        "from tensorflow.keras.utils import load_img, img_to_array\n",
        "\n",
        "uploaded = files.upload()\n",
        "\n",
        "for fn in uploaded.keys():\n",
        "\n",
        "  # predicting images\n",
        "  path = '/content/' + fn\n",
        "  img = load_img(path, target_size=(224, 224))\n",
        "  x = img_to_array(img)\n",
        "  x /= 255\n",
        "  x = np.expand_dims(x, axis=0)\n",
        "\n",
        "  images = np.vstack([x])\n",
        "  classes = model2.predict(images, batch_size=6)\n",
        "  print(classes)\n",
        "  output_class = np.argmax(classes)\n",
        "  classname = [\"ayam_goreng\", \"bubur_ayam\", \"es_krim\", \"gado_gado\", \"kentang_goreng\", \"kue_coklat\", \"nasi_goreng\", \"omellette\", \"rendang\", \"sandwich\"]\n",
        "  print(\"The predicted class is\", classname[output_class])"
      ]
    },
    {
      "cell_type": "code",
      "execution_count": null,
      "metadata": {
        "id": "ewC-BTGTLu4b",
        "colab": {
          "base_uri": "https://localhost:8080/"
        },
        "outputId": "6b6f7b58-f807-4c5d-d3f1-0fa8221ff1bf"
      },
      "outputs": [
        {
          "output_type": "stream",
          "name": "stdout",
          "text": [
            "Gambar tidak ada dalam database.\n"
          ]
        }
      ],
      "source": [
        "try:\n",
        "    new_image_pred_class = np.argmax(classes, axis=1)\n",
        "    new_image_pred_prob = np.max(classes)\n",
        "\n",
        "    if new_image_pred_prob > 0.7:\n",
        "        predicted_class = new_image_pred_class[0]\n",
        "        predicted_label = validation_generator.class_indices\n",
        "        for label, index in predicted_label.items():\n",
        "            if index == predicted_class:\n",
        "                print('Prediksi:', label)\n",
        "    else:\n",
        "        print('Gambar tidak ada dalam database.')\n",
        "\n",
        "except FileNotFoundError:\n",
        "    print('Gambar tidak ditemukan.')"
      ]
    },
    {
      "cell_type": "markdown",
      "metadata": {
        "id": "s4bMQ026tKQ3"
      },
      "source": [
        "# **Save Choosen Model**"
      ]
    },
    {
      "cell_type": "code",
      "execution_count": null,
      "metadata": {
        "colab": {
          "base_uri": "https://localhost:8080/"
        },
        "id": "kM8zkoCERQoB",
        "outputId": "dee87a41-44da-4261-f76c-87727c1eabd3"
      },
      "outputs": [
        {
          "name": "stderr",
          "output_type": "stream",
          "text": [
            "WARNING:absl:Function `_wrapped_model` contains input name(s) mobilenetv2_1.00_224_input with unsupported characters which will be renamed to mobilenetv2_1_00_224_input in the SavedModel.\n",
            "WARNING:absl:`mobilenetv2_1.00_224_input` is not a valid tf.function parameter name. Sanitizing to `mobilenetv2_1_00_224_input`.\n",
            "WARNING:absl:`mobilenetv2_1.00_224_input` is not a valid tf.function parameter name. Sanitizing to `mobilenetv2_1_00_224_input`.\n",
            "WARNING:absl:`mobilenetv2_1.00_224_input` is not a valid tf.function parameter name. Sanitizing to `mobilenetv2_1_00_224_input`.\n",
            "WARNING:absl:Found untraced functions such as _jit_compiled_convolution_op, _jit_compiled_convolution_op, _jit_compiled_convolution_op, _jit_compiled_convolution_op, _jit_compiled_convolution_op while saving (showing 5 of 52). These functions will not be directly callable after loading.\n"
          ]
        }
      ],
      "source": [
        "export_dir = './save_model/1'\n",
        "tf.saved_model.save(model2, export_dir)\n"
      ]
    },
    {
      "cell_type": "markdown",
      "metadata": {
        "id": "64vZathmtSMt"
      },
      "source": [
        "# **Convert to TFlite**"
      ]
    },
    {
      "cell_type": "code",
      "execution_count": null,
      "metadata": {
        "id": "xutqMrKPMlDc"
      },
      "outputs": [],
      "source": [
        "# pilih mode\n",
        "mode = \"Speed\"\n",
        "\n",
        "if mode == 'Storage':\n",
        "    optimization = tf.lite.Optimize.OPTIMIZE_FOR_SIZE\n",
        "elif mode == 'Speed':\n",
        "    optimization = tf.lite.Optimize.DEFAULT\n",
        "else:\n",
        "    optimization = tf.lite.Optimize.DEFAULT"
      ]
    },
    {
      "cell_type": "code",
      "execution_count": null,
      "metadata": {
        "colab": {
          "base_uri": "https://localhost:8080/"
        },
        "id": "V7EuOh19Mlau",
        "outputId": "e6231bad-2be6-498c-f440-22e392a8986b"
      },
      "outputs": [
        {
          "name": "stderr",
          "output_type": "stream",
          "text": [
            "WARNING:absl:Optimization option OPTIMIZE_FOR_LATENCY is deprecated, please use optimizations=[Optimize.DEFAULT] instead.\n",
            "WARNING:absl:Optimization option OPTIMIZE_FOR_LATENCY is deprecated, please use optimizations=[Optimize.DEFAULT] instead.\n",
            "WARNING:absl:Optimization option OPTIMIZE_FOR_LATENCY is deprecated, please use optimizations=[Optimize.DEFAULT] instead.\n"
          ]
        }
      ],
      "source": [
        "converter = tf.lite.TFLiteConverter.from_saved_model(export_dir)\n",
        "\n",
        "# Set optimasi\n",
        "converter.optimizations = [optimization]\n",
        "\n",
        "# Convert\n",
        "tflite_model = converter.convert()"
      ]
    },
    {
      "cell_type": "code",
      "execution_count": null,
      "metadata": {
        "colab": {
          "base_uri": "https://localhost:8080/"
        },
        "id": "h5H0LCOEM88d",
        "outputId": "1668b451-f3e6-405a-91fc-05fd0c24c2b7"
      },
      "outputs": [
        {
          "data": {
            "text/plain": [
              "3171296"
            ]
          },
          "execution_count": 31,
          "metadata": {},
          "output_type": "execute_result"
        }
      ],
      "source": [
        "import pathlib\n",
        "tflite_model_file = pathlib.Path('./model2.tflite')\n",
        "tflite_model_file.write_bytes(tflite_model)"
      ]
    },
    {
      "cell_type": "code",
      "execution_count": null,
      "metadata": {
        "id": "fmPazypwHrIO"
      },
      "outputs": [],
      "source": []
    }
  ],
  "metadata": {
    "accelerator": "GPU",
    "colab": {
      "provenance": []
    },
    "kernelspec": {
      "display_name": "Python 3",
      "name": "python3"
    },
    "language_info": {
      "name": "python"
    }
  },
  "nbformat": 4,
  "nbformat_minor": 0
}